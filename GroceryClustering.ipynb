{
 "cells": [
  {
   "cell_type": "code",
   "execution_count": 1,
   "metadata": {
    "collapsed": true
   },
   "outputs": [],
   "source": [
    "import pandas as pd\n",
    "import numpy as np\n",
    "import matplotlib.pyplot as plt\n",
    "from sklearn.cluster import KMeans\n",
    "from scipy.spatial.distance import euclidean\n",
    "from sklearn.metrics.pairwise import pairwise_distances\n",
    "%matplotlib inline"
   ]
  },
  {
   "cell_type": "code",
   "execution_count": 2,
   "metadata": {
    "collapsed": true
   },
   "outputs": [],
   "source": [
    "# First load the data\n",
    "itm_to_id = pd.read_csv('grocery/item_to_id.csv')\n",
    "purchase_hist = pd.read_csv('grocery/purchase_history.csv')"
   ]
  },
  {
   "cell_type": "code",
   "execution_count": 3,
   "metadata": {
    "collapsed": false
   },
   "outputs": [
    {
     "name": "stdout",
     "output_type": "stream",
     "text": [
      "<class 'pandas.core.frame.DataFrame'>\n",
      "RangeIndex: 48 entries, 0 to 47\n",
      "Data columns (total 2 columns):\n",
      "Item_name    48 non-null object\n",
      "Item_id      48 non-null int64\n",
      "dtypes: int64(1), object(1)\n",
      "memory usage: 840.0+ bytes\n"
     ]
    }
   ],
   "source": [
    "# Next, do a quick inspection of the tables and the data types\n",
    "itm_to_id.info()"
   ]
  },
  {
   "cell_type": "code",
   "execution_count": 4,
   "metadata": {
    "collapsed": false
   },
   "outputs": [
    {
     "data": {
      "text/html": [
       "<div>\n",
       "<table border=\"1\" class=\"dataframe\">\n",
       "  <thead>\n",
       "    <tr style=\"text-align: right;\">\n",
       "      <th></th>\n",
       "      <th>Item_name</th>\n",
       "      <th>Item_id</th>\n",
       "    </tr>\n",
       "  </thead>\n",
       "  <tbody>\n",
       "    <tr>\n",
       "      <th>0</th>\n",
       "      <td>coffee</td>\n",
       "      <td>43</td>\n",
       "    </tr>\n",
       "    <tr>\n",
       "      <th>1</th>\n",
       "      <td>tea</td>\n",
       "      <td>23</td>\n",
       "    </tr>\n",
       "    <tr>\n",
       "      <th>2</th>\n",
       "      <td>juice</td>\n",
       "      <td>38</td>\n",
       "    </tr>\n",
       "    <tr>\n",
       "      <th>3</th>\n",
       "      <td>soda</td>\n",
       "      <td>9</td>\n",
       "    </tr>\n",
       "    <tr>\n",
       "      <th>4</th>\n",
       "      <td>sandwich loaves</td>\n",
       "      <td>39</td>\n",
       "    </tr>\n",
       "  </tbody>\n",
       "</table>\n",
       "</div>"
      ],
      "text/plain": [
       "         Item_name  Item_id\n",
       "0           coffee       43\n",
       "1              tea       23\n",
       "2            juice       38\n",
       "3             soda        9\n",
       "4  sandwich loaves       39"
      ]
     },
     "execution_count": 4,
     "metadata": {},
     "output_type": "execute_result"
    }
   ],
   "source": [
    "itm_to_id.head()"
   ]
  },
  {
   "cell_type": "code",
   "execution_count": 5,
   "metadata": {
    "collapsed": false
   },
   "outputs": [
    {
     "name": "stdout",
     "output_type": "stream",
     "text": [
      "<class 'pandas.core.frame.DataFrame'>\n",
      "RangeIndex: 39474 entries, 0 to 39473\n",
      "Data columns (total 2 columns):\n",
      "user_id    39474 non-null int64\n",
      "id         39474 non-null object\n",
      "dtypes: int64(1), object(1)\n",
      "memory usage: 616.9+ KB\n"
     ]
    }
   ],
   "source": [
    "purchase_hist.info()"
   ]
  },
  {
   "cell_type": "code",
   "execution_count": 6,
   "metadata": {
    "collapsed": false
   },
   "outputs": [
    {
     "data": {
      "text/html": [
       "<div>\n",
       "<table border=\"1\" class=\"dataframe\">\n",
       "  <thead>\n",
       "    <tr style=\"text-align: right;\">\n",
       "      <th></th>\n",
       "      <th>user_id</th>\n",
       "      <th>id</th>\n",
       "    </tr>\n",
       "  </thead>\n",
       "  <tbody>\n",
       "    <tr>\n",
       "      <th>0</th>\n",
       "      <td>222087</td>\n",
       "      <td>27,26</td>\n",
       "    </tr>\n",
       "    <tr>\n",
       "      <th>1</th>\n",
       "      <td>1343649</td>\n",
       "      <td>6,47,17</td>\n",
       "    </tr>\n",
       "    <tr>\n",
       "      <th>2</th>\n",
       "      <td>404134</td>\n",
       "      <td>18,12,23,22,27,43,38,20,35,1</td>\n",
       "    </tr>\n",
       "    <tr>\n",
       "      <th>3</th>\n",
       "      <td>1110200</td>\n",
       "      <td>9,23,2,20,26,47,37</td>\n",
       "    </tr>\n",
       "    <tr>\n",
       "      <th>4</th>\n",
       "      <td>224107</td>\n",
       "      <td>31,18,5,13,1,21,48,16,26,2,44,32,20,37,42,35,4...</td>\n",
       "    </tr>\n",
       "  </tbody>\n",
       "</table>\n",
       "</div>"
      ],
      "text/plain": [
       "   user_id                                                 id\n",
       "0   222087                                              27,26\n",
       "1  1343649                                            6,47,17\n",
       "2   404134                       18,12,23,22,27,43,38,20,35,1\n",
       "3  1110200                                 9,23,2,20,26,47,37\n",
       "4   224107  31,18,5,13,1,21,48,16,26,2,44,32,20,37,42,35,4..."
      ]
     },
     "execution_count": 6,
     "metadata": {},
     "output_type": "execute_result"
    }
   ],
   "source": [
    "purchase_hist.head()"
   ]
  },
  {
   "cell_type": "markdown",
   "metadata": {},
   "source": [
    "Q1. Which customer brought the most items?"
   ]
  },
  {
   "cell_type": "code",
   "execution_count": 7,
   "metadata": {
    "collapsed": false
   },
   "outputs": [
    {
     "data": {
      "text/plain": [
       "user_id\n",
       "269335     72\n",
       "367872     70\n",
       "599172     64\n",
       "397623     64\n",
       "377284     63\n",
       "1485538    62\n",
       "917199     62\n",
       "718218     60\n",
       "653800     60\n",
       "828721     58\n",
       "1341188    58\n",
       "920002     56\n",
       "996380     56\n",
       "1100981    55\n",
       "80215      55\n",
       "957925     54\n",
       "1493728    54\n",
       "764759     54\n",
       "364868     54\n",
       "765694     54\n",
       "655779     54\n",
       "1199670    54\n",
       "31625      54\n",
       "1286028    54\n",
       "64998      53\n",
       "68282      53\n",
       "1071626    53\n",
       "1000683    53\n",
       "1310896    52\n",
       "151926     52\n",
       "           ..\n",
       "1093281     1\n",
       "164101      1\n",
       "163889      1\n",
       "72910       1\n",
       "1215832     1\n",
       "582116      1\n",
       "1396633     1\n",
       "922364      1\n",
       "73311       1\n",
       "161402      1\n",
       "268012      1\n",
       "601146      1\n",
       "1395281     1\n",
       "984470      1\n",
       "71909       1\n",
       "420197      1\n",
       "1333210     1\n",
       "765381      1\n",
       "981233      1\n",
       "587485      1\n",
       "263204      1\n",
       "168337      1\n",
       "26600       1\n",
       "422261      1\n",
       "1099222     1\n",
       "422843      1\n",
       "170709      1\n",
       "1210831     1\n",
       "170979      1\n",
       "920582      1\n",
       "Name: number_of_items, dtype: int64"
      ]
     },
     "execution_count": 7,
     "metadata": {},
     "output_type": "execute_result"
    }
   ],
   "source": [
    "purchase_hist['number_of_items'] = purchase_hist.id.apply((lambda x: len(x.split(','))))\n",
    "purchase_hist.groupby('user_id')['number_of_items'].sum().sort_values(ascending=False)"
   ]
  },
  {
   "cell_type": "markdown",
   "metadata": {},
   "source": [
    "**User 269335 purchased the most items.**"
   ]
  },
  {
   "cell_type": "markdown",
   "metadata": {},
   "source": [
    "Q2. For each item, which customer bought that item the most?"
   ]
  },
  {
   "cell_type": "code",
   "execution_count": 8,
   "metadata": {
    "collapsed": false
   },
   "outputs": [],
   "source": [
    "'''\n",
    "Create a new dataframe that has 3 columns:\n",
    " - user_id: the user id\n",
    " - id: the item id\n",
    " - count: column of 1s\n",
    "'''\n",
    "user_id = []\n",
    "item_id = []\n",
    "count = []\n",
    "for row in purchase_hist[['user_id','id']].iterrows():\n",
    "    items = row[1][1].split(',')\n",
    "    for itm in items:\n",
    "        item_id.append(itm)\n",
    "        user_id.append(row[1][0])\n",
    "        count.append(1)\n",
    "itm_usr = pd.DataFrame({'id': item_id, 'user_id': user_id, 'count':count})"
   ]
  },
  {
   "cell_type": "code",
   "execution_count": 9,
   "metadata": {
    "collapsed": false
   },
   "outputs": [
    {
     "data": {
      "text/html": [
       "<div>\n",
       "<table border=\"1\" class=\"dataframe\">\n",
       "  <thead>\n",
       "    <tr style=\"text-align: right;\">\n",
       "      <th></th>\n",
       "      <th>count</th>\n",
       "      <th>id</th>\n",
       "      <th>user_id</th>\n",
       "    </tr>\n",
       "  </thead>\n",
       "  <tbody>\n",
       "    <tr>\n",
       "      <th>0</th>\n",
       "      <td>1</td>\n",
       "      <td>27</td>\n",
       "      <td>222087</td>\n",
       "    </tr>\n",
       "    <tr>\n",
       "      <th>1</th>\n",
       "      <td>1</td>\n",
       "      <td>26</td>\n",
       "      <td>222087</td>\n",
       "    </tr>\n",
       "    <tr>\n",
       "      <th>2</th>\n",
       "      <td>1</td>\n",
       "      <td>6</td>\n",
       "      <td>1343649</td>\n",
       "    </tr>\n",
       "    <tr>\n",
       "      <th>3</th>\n",
       "      <td>1</td>\n",
       "      <td>47</td>\n",
       "      <td>1343649</td>\n",
       "    </tr>\n",
       "    <tr>\n",
       "      <th>4</th>\n",
       "      <td>1</td>\n",
       "      <td>17</td>\n",
       "      <td>1343649</td>\n",
       "    </tr>\n",
       "  </tbody>\n",
       "</table>\n",
       "</div>"
      ],
      "text/plain": [
       "   count  id  user_id\n",
       "0      1  27   222087\n",
       "1      1  26   222087\n",
       "2      1   6  1343649\n",
       "3      1  47  1343649\n",
       "4      1  17  1343649"
      ]
     },
     "execution_count": 9,
     "metadata": {},
     "output_type": "execute_result"
    }
   ],
   "source": [
    "itm_usr.head()"
   ]
  },
  {
   "cell_type": "code",
   "execution_count": 10,
   "metadata": {
    "collapsed": false
   },
   "outputs": [],
   "source": [
    "# Aggregate the itm_user table by the item id and the user id to get the number of times each user purchased each item\n",
    "itm_usr_counts = itm_usr.groupby(['id','user_id'])['count'].sum()"
   ]
  },
  {
   "cell_type": "code",
   "execution_count": 11,
   "metadata": {
    "collapsed": false
   },
   "outputs": [],
   "source": [
    "'''\n",
    "Finally create another data frame that shows the users that bought each item the most. Two columns:\n",
    "- frequent_users: The user(s) that purchased the item the most\n",
    "- itm_id: The item id\n",
    "'''\n",
    "items = itm_usr.id.unique()\n",
    "freq_user = []\n",
    "for itm in items:\n",
    "    freq_user.append(itm_usr_counts[itm][itm_usr_counts[itm] == itm_usr_counts[itm].max()].index.values.tolist())\n",
    "itm_usr_freq = pd.DataFrame({'itm_id':items, 'frequent user(s)':freq_user })"
   ]
  },
  {
   "cell_type": "code",
   "execution_count": 12,
   "metadata": {
    "collapsed": false
   },
   "outputs": [
    {
     "data": {
      "text/html": [
       "<div>\n",
       "<table border=\"1\" class=\"dataframe\">\n",
       "  <thead>\n",
       "    <tr style=\"text-align: right;\">\n",
       "      <th></th>\n",
       "      <th>frequent user(s)</th>\n",
       "      <th>itm_id</th>\n",
       "    </tr>\n",
       "  </thead>\n",
       "  <tbody>\n",
       "    <tr>\n",
       "      <th>0</th>\n",
       "      <td>[956666]</td>\n",
       "      <td>27</td>\n",
       "    </tr>\n",
       "    <tr>\n",
       "      <th>1</th>\n",
       "      <td>[967573, 1341188]</td>\n",
       "      <td>26</td>\n",
       "    </tr>\n",
       "    <tr>\n",
       "      <th>2</th>\n",
       "      <td>[334664, 1151741]</td>\n",
       "      <td>6</td>\n",
       "    </tr>\n",
       "    <tr>\n",
       "      <th>3</th>\n",
       "      <td>[384935, 1303056, 1374100]</td>\n",
       "      <td>47</td>\n",
       "    </tr>\n",
       "    <tr>\n",
       "      <th>4</th>\n",
       "      <td>[366155, 463073, 1089642, 1275324]</td>\n",
       "      <td>17</td>\n",
       "    </tr>\n",
       "    <tr>\n",
       "      <th>5</th>\n",
       "      <td>[917199]</td>\n",
       "      <td>18</td>\n",
       "    </tr>\n",
       "    <tr>\n",
       "      <th>6</th>\n",
       "      <td>[557904, 791038]</td>\n",
       "      <td>12</td>\n",
       "    </tr>\n",
       "    <tr>\n",
       "      <th>7</th>\n",
       "      <td>[920002]</td>\n",
       "      <td>23</td>\n",
       "    </tr>\n",
       "    <tr>\n",
       "      <th>8</th>\n",
       "      <td>[1199670]</td>\n",
       "      <td>22</td>\n",
       "    </tr>\n",
       "    <tr>\n",
       "      <th>9</th>\n",
       "      <td>[996380]</td>\n",
       "      <td>43</td>\n",
       "    </tr>\n",
       "    <tr>\n",
       "      <th>10</th>\n",
       "      <td>[255546, 889814]</td>\n",
       "      <td>38</td>\n",
       "    </tr>\n",
       "    <tr>\n",
       "      <th>11</th>\n",
       "      <td>[885474, 1100981, 1433799]</td>\n",
       "      <td>20</td>\n",
       "    </tr>\n",
       "    <tr>\n",
       "      <th>12</th>\n",
       "      <td>[450482, 1003550, 1380205]</td>\n",
       "      <td>35</td>\n",
       "    </tr>\n",
       "    <tr>\n",
       "      <th>13</th>\n",
       "      <td>[31625, 68836, 540483, 1091637, 1301034]</td>\n",
       "      <td>1</td>\n",
       "    </tr>\n",
       "    <tr>\n",
       "      <th>14</th>\n",
       "      <td>[269335, 397623, 1271258, 1310896]</td>\n",
       "      <td>9</td>\n",
       "    </tr>\n",
       "    <tr>\n",
       "      <th>15</th>\n",
       "      <td>[31625, 269335]</td>\n",
       "      <td>2</td>\n",
       "    </tr>\n",
       "    <tr>\n",
       "      <th>16</th>\n",
       "      <td>[46757, 198866, 269335, 364868, 375849]</td>\n",
       "      <td>37</td>\n",
       "    </tr>\n",
       "    <tr>\n",
       "      <th>17</th>\n",
       "      <td>[289360]</td>\n",
       "      <td>31</td>\n",
       "    </tr>\n",
       "    <tr>\n",
       "      <th>18</th>\n",
       "      <td>[217277, 397623, 414416, 1392068]</td>\n",
       "      <td>5</td>\n",
       "    </tr>\n",
       "    <tr>\n",
       "      <th>19</th>\n",
       "      <td>[653800, 820788]</td>\n",
       "      <td>13</td>\n",
       "    </tr>\n",
       "    <tr>\n",
       "      <th>20</th>\n",
       "      <td>[884172]</td>\n",
       "      <td>21</td>\n",
       "    </tr>\n",
       "    <tr>\n",
       "      <th>21</th>\n",
       "      <td>[335841, 342220, 608263, 618914, 728584, 80697...</td>\n",
       "      <td>48</td>\n",
       "    </tr>\n",
       "    <tr>\n",
       "      <th>22</th>\n",
       "      <td>[73071, 90642, 189005, 319296, 491729, 545108,...</td>\n",
       "      <td>16</td>\n",
       "    </tr>\n",
       "    <tr>\n",
       "      <th>23</th>\n",
       "      <td>[31625, 250777, 268767, 297185, 1286028]</td>\n",
       "      <td>44</td>\n",
       "    </tr>\n",
       "    <tr>\n",
       "      <th>24</th>\n",
       "      <td>[109578, 384935, 545108, 1303742, 1310896]</td>\n",
       "      <td>32</td>\n",
       "    </tr>\n",
       "    <tr>\n",
       "      <th>25</th>\n",
       "      <td>[80215, 269335, 635240, 761520, 776603]</td>\n",
       "      <td>42</td>\n",
       "    </tr>\n",
       "    <tr>\n",
       "      <th>26</th>\n",
       "      <td>[38872, 87247, 384935, 1217810, 1236029, 1493728]</td>\n",
       "      <td>40</td>\n",
       "    </tr>\n",
       "    <tr>\n",
       "      <th>27</th>\n",
       "      <td>[175865, 312711, 360336, 811299, 1147990, 1494...</td>\n",
       "      <td>7</td>\n",
       "    </tr>\n",
       "    <tr>\n",
       "      <th>28</th>\n",
       "      <td>[394348]</td>\n",
       "      <td>29</td>\n",
       "    </tr>\n",
       "    <tr>\n",
       "      <th>29</th>\n",
       "      <td>[151926, 238761, 269836, 297980, 300878, 42328...</td>\n",
       "      <td>8</td>\n",
       "    </tr>\n",
       "    <tr>\n",
       "      <th>30</th>\n",
       "      <td>[1198106]</td>\n",
       "      <td>45</td>\n",
       "    </tr>\n",
       "    <tr>\n",
       "      <th>31</th>\n",
       "      <td>[143741]</td>\n",
       "      <td>15</td>\n",
       "    </tr>\n",
       "    <tr>\n",
       "      <th>32</th>\n",
       "      <td>[367872, 534745, 1038694, 1198106, 1249050, 14...</td>\n",
       "      <td>11</td>\n",
       "    </tr>\n",
       "    <tr>\n",
       "      <th>33</th>\n",
       "      <td>[68282, 109578, 910391, 1027296, 1414621]</td>\n",
       "      <td>25</td>\n",
       "    </tr>\n",
       "    <tr>\n",
       "      <th>34</th>\n",
       "      <td>[172120, 238761, 255458, 279962, 318112, 38090...</td>\n",
       "      <td>14</td>\n",
       "    </tr>\n",
       "    <tr>\n",
       "      <th>35</th>\n",
       "      <td>[133355, 1425746]</td>\n",
       "      <td>41</td>\n",
       "    </tr>\n",
       "    <tr>\n",
       "      <th>36</th>\n",
       "      <td>[204624, 238495]</td>\n",
       "      <td>28</td>\n",
       "    </tr>\n",
       "    <tr>\n",
       "      <th>37</th>\n",
       "      <td>[618914, 743501, 1485538]</td>\n",
       "      <td>10</td>\n",
       "    </tr>\n",
       "    <tr>\n",
       "      <th>38</th>\n",
       "      <td>[1218645, 1269111]</td>\n",
       "      <td>46</td>\n",
       "    </tr>\n",
       "    <tr>\n",
       "      <th>39</th>\n",
       "      <td>[154960, 593439, 1147269, 1433188]</td>\n",
       "      <td>3</td>\n",
       "    </tr>\n",
       "    <tr>\n",
       "      <th>40</th>\n",
       "      <td>[31625, 1393126]</td>\n",
       "      <td>19</td>\n",
       "    </tr>\n",
       "    <tr>\n",
       "      <th>41</th>\n",
       "      <td>[599172]</td>\n",
       "      <td>39</td>\n",
       "    </tr>\n",
       "    <tr>\n",
       "      <th>42</th>\n",
       "      <td>[21779, 48313, 50451, 64998, 67283, 80215, 882...</td>\n",
       "      <td>30</td>\n",
       "    </tr>\n",
       "    <tr>\n",
       "      <th>43</th>\n",
       "      <td>[305916, 375849, 557099, 1158937, 1341188, 148...</td>\n",
       "      <td>34</td>\n",
       "    </tr>\n",
       "    <tr>\n",
       "      <th>44</th>\n",
       "      <td>[1310207, 1425746]</td>\n",
       "      <td>33</td>\n",
       "    </tr>\n",
       "    <tr>\n",
       "      <th>45</th>\n",
       "      <td>[189913, 1077463, 1121617, 1146129]</td>\n",
       "      <td>24</td>\n",
       "    </tr>\n",
       "    <tr>\n",
       "      <th>46</th>\n",
       "      <td>[269335, 602347]</td>\n",
       "      <td>36</td>\n",
       "    </tr>\n",
       "    <tr>\n",
       "      <th>47</th>\n",
       "      <td>[5289, 73071, 432842]</td>\n",
       "      <td>4</td>\n",
       "    </tr>\n",
       "  </tbody>\n",
       "</table>\n",
       "</div>"
      ],
      "text/plain": [
       "                                     frequent user(s) itm_id\n",
       "0                                            [956666]     27\n",
       "1                                   [967573, 1341188]     26\n",
       "2                                   [334664, 1151741]      6\n",
       "3                          [384935, 1303056, 1374100]     47\n",
       "4                  [366155, 463073, 1089642, 1275324]     17\n",
       "5                                            [917199]     18\n",
       "6                                    [557904, 791038]     12\n",
       "7                                            [920002]     23\n",
       "8                                           [1199670]     22\n",
       "9                                            [996380]     43\n",
       "10                                   [255546, 889814]     38\n",
       "11                         [885474, 1100981, 1433799]     20\n",
       "12                         [450482, 1003550, 1380205]     35\n",
       "13           [31625, 68836, 540483, 1091637, 1301034]      1\n",
       "14                 [269335, 397623, 1271258, 1310896]      9\n",
       "15                                    [31625, 269335]      2\n",
       "16            [46757, 198866, 269335, 364868, 375849]     37\n",
       "17                                           [289360]     31\n",
       "18                  [217277, 397623, 414416, 1392068]      5\n",
       "19                                   [653800, 820788]     13\n",
       "20                                           [884172]     21\n",
       "21  [335841, 342220, 608263, 618914, 728584, 80697...     48\n",
       "22  [73071, 90642, 189005, 319296, 491729, 545108,...     16\n",
       "23           [31625, 250777, 268767, 297185, 1286028]     44\n",
       "24         [109578, 384935, 545108, 1303742, 1310896]     32\n",
       "25            [80215, 269335, 635240, 761520, 776603]     42\n",
       "26  [38872, 87247, 384935, 1217810, 1236029, 1493728]     40\n",
       "27  [175865, 312711, 360336, 811299, 1147990, 1494...      7\n",
       "28                                           [394348]     29\n",
       "29  [151926, 238761, 269836, 297980, 300878, 42328...      8\n",
       "30                                          [1198106]     45\n",
       "31                                           [143741]     15\n",
       "32  [367872, 534745, 1038694, 1198106, 1249050, 14...     11\n",
       "33          [68282, 109578, 910391, 1027296, 1414621]     25\n",
       "34  [172120, 238761, 255458, 279962, 318112, 38090...     14\n",
       "35                                  [133355, 1425746]     41\n",
       "36                                   [204624, 238495]     28\n",
       "37                          [618914, 743501, 1485538]     10\n",
       "38                                 [1218645, 1269111]     46\n",
       "39                 [154960, 593439, 1147269, 1433188]      3\n",
       "40                                   [31625, 1393126]     19\n",
       "41                                           [599172]     39\n",
       "42  [21779, 48313, 50451, 64998, 67283, 80215, 882...     30\n",
       "43  [305916, 375849, 557099, 1158937, 1341188, 148...     34\n",
       "44                                 [1310207, 1425746]     33\n",
       "45                [189913, 1077463, 1121617, 1146129]     24\n",
       "46                                   [269335, 602347]     36\n",
       "47                              [5289, 73071, 432842]      4"
      ]
     },
     "execution_count": 12,
     "metadata": {},
     "output_type": "execute_result"
    }
   ],
   "source": [
    "itm_usr_freq"
   ]
  },
  {
   "cell_type": "markdown",
   "metadata": {},
   "source": [
    "Q3. Cluster items based on user co-purchase history."
   ]
  },
  {
   "cell_type": "code",
   "execution_count": 13,
   "metadata": {
    "collapsed": false
   },
   "outputs": [
    {
     "data": {
      "text/plain": [
       "<matplotlib.axes._subplots.AxesSubplot at 0xbf114a8>"
      ]
     },
     "execution_count": 13,
     "metadata": {},
     "output_type": "execute_result"
    },
    {
     "data": {
      "image/png": "[encoded data removed]",
      "text/plain": [
       "<matplotlib.figure.Figure at 0x11ac02b0>"
      ]
     },
     "metadata": {},
     "output_type": "display_data"
    }
   ],
   "source": [
    "# Let's see how many times users visit the site to purchase groceries\n",
    "purchase_hist.groupby('user_id')['id'].count().hist()"
   ]
  },
  {
   "cell_type": "code",
   "execution_count": 14,
   "metadata": {
    "collapsed": false
   },
   "outputs": [],
   "source": [
    "# Remove the outliers (i.e.) the users who visited the site more than 3 times\n",
    "user_freq = purchase_hist.groupby('user_id')['id'].count()\n",
    "user_freq = pd.DataFrame({'user_id': user_freq.index, 'visits': user_freq.values})\n",
    "normal_users = user_freq[user_freq.visits < 3]['user_id'].values.tolist()\n",
    "cleaned_hist = purchase_hist[purchase_hist.user_id.isin(normal_users)]"
   ]
  },
  {
   "cell_type": "code",
   "execution_count": 15,
   "metadata": {
    "collapsed": false
   },
   "outputs": [
    {
     "data": {
      "text/plain": [
       "<matplotlib.axes._subplots.AxesSubplot at 0x12224e48>"
      ]
     },
     "execution_count": 15,
     "metadata": {},
     "output_type": "execute_result"
    },
    {
     "data": {
      "image/png": "[encoded data removed]",
      "text/plain": [
       "<matplotlib.figure.Figure at 0x1223f198>"
      ]
     },
     "metadata": {},
     "output_type": "display_data"
    }
   ],
   "source": [
    "# Let's create a boxplot of the number of grocery items purchased during a site visit.\n",
    "cleaned_hist.boxplot(column='number_of_items')"
   ]
  },
  {
   "cell_type": "code",
   "execution_count": 16,
   "metadata": {
    "collapsed": false
   },
   "outputs": [],
   "source": [
    "# Let's remove the outliers. Since we're interested in clustering by co-purchases, remove records with only 1 item purchased as well.\n",
    "cleaned_hist = cleaned_hist[(cleaned_hist.number_of_items >= 2) & (cleaned_hist.number_of_items < 20)]"
   ]
  },
  {
   "cell_type": "code",
   "execution_count": 17,
   "metadata": {
    "collapsed": false
   },
   "outputs": [],
   "source": [
    "'''\n",
    "Create a 48 by 48 matrix of co-purchase probabilities. Each cell M[i,j] in the matrix will show the conditional probability\n",
    "of also purchasing item j given that item i is purchased.\n",
    "'''\n",
    "\n",
    "# First compute the total number of items each item was purchased\n",
    "item_ids = sorted([int(s) for s in itm_usr.id.unique()])\n",
    "itm_purchase_freq = {}\n",
    "for row in cleaned_hist.id:\n",
    "    items = [int(s) for s in row.split(',')]\n",
    "    for i in items:\n",
    "        if i not in itm_purchase_freq:\n",
    "            itm_purchase_freq[i] = 1\n",
    "        else:\n",
    "            itm_purchase_freq[i] += 1"
   ]
  },
  {
   "cell_type": "code",
   "execution_count": 18,
   "metadata": {
    "collapsed": false
   },
   "outputs": [],
   "source": [
    "# Initialize the probability matrix\n",
    "itm_prob_mat = np.identity(len(item_ids))\n",
    "itm_pair_freq = np.zeros((len(item_ids),len(item_ids)))"
   ]
  },
  {
   "cell_type": "code",
   "execution_count": 19,
   "metadata": {
    "collapsed": false
   },
   "outputs": [],
   "source": [
    "# Compute the number of times each possible 2 item combination of purchases occurred.\n",
    "for row in cleaned_hist.id:\n",
    "    items = [int(s) for s in row.split(',')]\n",
    "    for a in range(len(items)):\n",
    "        i = items[a]-1\n",
    "        for b in range(a+1, len(items)):\n",
    "            j = items[b]-1\n",
    "            itm_pair_freq[i][j] += 1\n",
    "            itm_pair_freq[j][i] += 1"
   ]
  },
  {
   "cell_type": "code",
   "execution_count": 20,
   "metadata": {
    "collapsed": false
   },
   "outputs": [],
   "source": [
    "# Compute the probability matrix\n",
    "for row in xrange(len(item_ids)):\n",
    "    for col in xrange(len(item_ids)):\n",
    "        if row == col:\n",
    "            continue\n",
    "        itm_prob_mat[row][col] = itm_pair_freq[row][col] / itm_purchase_freq[row+1]"
   ]
  },
  {
   "cell_type": "code",
   "execution_count": 21,
   "metadata": {
    "collapsed": true
   },
   "outputs": [],
   "source": [
    "'''\n",
    "Perform Kmeans clustering on the probability matrix to form the clusters. We'll use the Elbow method to determine the\n",
    "optimal value for k.\n",
    "'''\n",
    "\n",
    "# We'll use the function below to compute the within cluster variance for each cluster.\n",
    "def computeWCV(clabels,n_clusters):\n",
    "    wcv = 0\n",
    "    for i in xrange(n_clusters):\n",
    "        clust = itm_prob_mat[clabels == i]\n",
    "        for j in xrange(len(clust)):\n",
    "            for k in xrange(j,len(clust)):\n",
    "                wcv += pairwise_distances(clust[j].reshape(1,-1),clust[k].reshape(1,-1))\n",
    "    return 0.5 * wcv"
   ]
  },
  {
   "cell_type": "code",
   "execution_count": 22,
   "metadata": {
    "collapsed": true
   },
   "outputs": [],
   "source": [
    "# Perform k means clustering several times with different values for k. Create an elbow plot to find the optimal k parameter.\n",
    "wcvdata = []\n",
    "for i in xrange(3,20):\n",
    "    Km = KMeans(n_clusters=i,max_iter=1000)\n",
    "    Km.fit(itm_prob_mat)\n",
    "    wcvdata.append(computeWCV(Km.labels_,i)[0][0])"
   ]
  },
  {
   "cell_type": "code",
   "execution_count": 23,
   "metadata": {
    "collapsed": false
   },
   "outputs": [
    {
     "data": {
      "text/plain": [
       "[<matplotlib.lines.Line2D at 0x11dc4ac8>]"
      ]
     },
     "execution_count": 23,
     "metadata": {},
     "output_type": "execute_result"
    },
    {
     "data": {
      "image/png": "[encoded data removed]",
      "text/plain": [
       "<matplotlib.figure.Figure at 0x122c6c50>"
      ]
     },
     "metadata": {},
     "output_type": "display_data"
    }
   ],
   "source": [
    "plt.plot(range(3,20),wcvdata)"
   ]
  },
  {
   "cell_type": "code",
   "execution_count": 24,
   "metadata": {
    "collapsed": true
   },
   "outputs": [],
   "source": [
    "itm_to_id = itm_to_id.set_index('Item_id')\n",
    "d = itm_to_id.to_dict()"
   ]
  },
  {
   "cell_type": "code",
   "execution_count": 25,
   "metadata": {
    "collapsed": false
   },
   "outputs": [],
   "source": [
    "# Judging from the elbow plot, 12 is the optimal value for k. Now lets see what the clusters look like!\n",
    "num_clusters = 12\n",
    "Km = KMeans(n_clusters=num_clusters,max_iter=1000)\n",
    "Km.fit(itm_prob_mat)\n",
    "\n",
    "clusters = []\n",
    "for i in xrange(num_clusters):\n",
    "    clusters.append([])\n",
    "\n",
    "for i in xrange(48):\n",
    "    l = Km.labels_[i]\n",
    "    clusters[l].append(d['Item_name'][i+1])"
   ]
  },
  {
   "cell_type": "code",
   "execution_count": 26,
   "metadata": {
    "collapsed": false
   },
   "outputs": [
    {
     "name": "stdout",
     "output_type": "stream",
     "text": [
      "Cluster #1:['waffles']\n",
      "Cluster #2:['laundry detergent', 'dishwashing\\xc2\\xa0']\n",
      "Cluster #3:['grapefruit', 'cherries', 'apples', 'berries', 'bananas']\n",
      "Cluster #4:['bagels', 'tortillas', 'dinner rolls', 'sandwich loaves']\n",
      "Cluster #5:['butter', 'eggs', 'milk', 'cheeses', 'yogurt']\n",
      "Cluster #6:['spaghetti sauce', 'canned vegetables', 'ketchup']\n",
      "Cluster #7:['lettuce', 'carrots', 'cucumbers', 'broccoli', 'cauliflower']\n",
      "Cluster #8:['soda', 'tea', 'juice', 'coffee']\n",
      "Cluster #9:['sandwich bags', 'aluminum foil', 'paper towels', 'toilet paper']\n",
      "Cluster #10:['sugar', 'pet items', 'baby items', 'cereals', 'shaving cream', 'frozen vegetables', 'flour', 'pasta', 'ice cream']\n",
      "Cluster #11:['poultry', 'beef', 'pork']\n",
      "Cluster #12:['shampoo', 'hand soap', 'soap']\n"
     ]
    }
   ],
   "source": [
    "for i in xrange(12):\n",
    "    print \"Cluster #{0}:{1}\".format(i+1, clusters[i])"
   ]
  },
  {
   "cell_type": "code",
   "execution_count": null,
   "metadata": {
    "collapsed": true
   },
   "outputs": [],
   "source": []
  }
 ],
 "metadata": {
  "kernelspec": {
   "display_name": "Python 2",
   "language": "python",
   "name": "python2"
  },
  "language_info": {
   "codemirror_mode": {
    "name": "ipython",
    "version": 2
   },
   "file_extension": ".py",
   "mimetype": "text/x-python",
   "name": "python",
   "nbconvert_exporter": "python",
   "pygments_lexer": "ipython2",
   "version": "2.7.13"
  }
 },
 "nbformat": 4,
 "nbformat_minor": 0
}
